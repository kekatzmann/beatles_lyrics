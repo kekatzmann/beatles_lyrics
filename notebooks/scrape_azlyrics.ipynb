{
 "cells": [
  {
   "cell_type": "markdown",
   "metadata": {},
   "source": [
    "# Scrape azlyrics.com\n",
    "\n",
    "This notebook contains work that scrapes azlyrics.com for all of the lyrics from a certain artist. The functions created require only a url of the artist. In this notebook I scraped Beatles lyrics, which were analyzed in the lyric modelling and exploration notebook in this repository.\n",
    "\n",
    "Last run with Python 3 on February 22, 2017"
   ]
  },
  {
   "cell_type": "code",
   "execution_count": 2,
   "metadata": {
    "collapsed": true
   },
   "outputs": [],
   "source": [
    "import pandas as pd\n",
    "import requests\n",
    "from bs4 import BeautifulSoup\n",
    "import pickle\n",
    "import re\n",
    "import difflib\n"
   ]
  },
  {
   "cell_type": "code",
   "execution_count": 7,
   "metadata": {
    "collapsed": true
   },
   "outputs": [],
   "source": [
    "beatles_url = 'http://www.azlyrics.com/b/beatles.html'\n",
    "\n",
    "base_url = 'http://www.azlyrics.com'\n",
    "\n",
    "headers = [{'User-Agent': 'Mozilla/5.0 (Windows NT 6.0; WOW64; rv:24.0) Gecko/20100101 Firefox/24.0'},\n",
    "           {'User-Agent': 'Mozilla/5.0 (Windows NT 6.2; Win64; x64) AppleWebKit/537.36 (KHTML, like Gecko) Chrome/32.0.1667.0 Safari/537.36'}\n",
    "          ]\n"
   ]
  },
  {
   "cell_type": "code",
   "execution_count": 8,
   "metadata": {
    "collapsed": false
   },
   "outputs": [],
   "source": [
    "# Beautiful Soup Functions\n",
    "\n",
    "def get_bs(url,header_index):\n",
    "    return BeautifulSoup(requests.get(url,headers=headers[header_index]).text, \"html.parser\")\n",
    "\n",
    "\n",
    "def album_song_urls(songs,albums):\n",
    "    albumDict = {}\n",
    "    albumIndex=0\n",
    "    albumList = []\n",
    "    urlList = []\n",
    "    for i in range(len(songs)):\n",
    "        try:\n",
    "            albumList.append([songs[i]['href'][2:],songs[i].text])\n",
    "            urlList.append(songs[i]['href'][2:])\n",
    "        except KeyError:\n",
    "            try:\n",
    "                albumDict[album_year[albumIndex]]=albumList\n",
    "                albumIndex += 1\n",
    "                albumList = []\n",
    "                pass\n",
    "            except IndexError:\n",
    "                if albumIndex==len(album_year):\n",
    "                    break\n",
    "    return urlList\n",
    "\n",
    "\n",
    "def get_lyrics(url_tail, base_url=base_url):\n",
    "    url = base_url + url_tail\n",
    "    soup = get_bs(url)\n",
    "    title = soup.find(class_='ringtone').nextSibling.nextSibling.text[1:-1]\n",
    "    try:\n",
    "        writers = soup.findAll(text=re.compile('^Writer\\(s\\):'))[0][11:].split(\",\")\n",
    "    except IndexError:\n",
    "        writers = ['NA']\n",
    "    lyrics = soup.find(class_=\"col-xs-12 col-lg-8 text-center\").find_all('div')[6].text.split(\"\\n\")\n",
    "    return [title, writers, lyrics]\n"
   ]
  },
  {
   "cell_type": "code",
   "execution_count": 10,
   "metadata": {
    "collapsed": false
   },
   "outputs": [],
   "source": [
    "# Getting the urls of each song\n",
    "\n",
    "beatles_soup = get_bs(beatles_url,0)\n",
    "\n",
    "beatles_urls = album_songs_urls(songs,album_year)\n",
    "#print(beatles_urls)\n"
   ]
  },
  {
   "cell_type": "code",
   "execution_count": 14,
   "metadata": {
    "collapsed": true
   },
   "outputs": [],
   "source": [
    "# Acquiring lyrics from each song page\n",
    "\n",
    "beatles_lyrics = []\n",
    "for song in beatles_urls:\n",
    "    beatles_lyrics.append(get_lyrics(song))\n"
   ]
  },
  {
   "cell_type": "code",
   "execution_count": null,
   "metadata": {
    "collapsed": true
   },
   "outputs": [],
   "source": [
    "# Lyric Parsing\n",
    "\n",
    "def parse_stanzas_lines(artist_lyrics):\n",
    "    lines = []\n",
    "    for song in artist_lyrics:\n",
    "        stz_num = 1\n",
    "        stz_line_num = 1\n",
    "        song_line_num = 1\n",
    "        for line in song[2][2:]:\n",
    "            if line:\n",
    "                lines.append([song[0],\n",
    "                              'stanza_{}'.format(stz_num),\n",
    "                              'stanza_line_{}'.format(stz_line_num),\n",
    "                              'song_line_{}'.format(song_line_num),\n",
    "                              re.sub(r'[^\\w ]', ' ', line.lower()).strip()])\n",
    "                stz_line_num += 1\n",
    "                song_line_num += 1\n",
    "            else:\n",
    "                stz_num += 1\n",
    "                stz_line_num = 1\n",
    "    return lines\n"
   ]
  },
  {
   "cell_type": "code",
   "execution_count": 11,
   "metadata": {
    "collapsed": false
   },
   "outputs": [
    {
     "data": {
      "text/html": [
       "<div>\n",
       "<table border=\"1\" class=\"dataframe\">\n",
       "  <thead>\n",
       "    <tr style=\"text-align: right;\">\n",
       "      <th></th>\n",
       "      <th>song</th>\n",
       "      <th>stanza</th>\n",
       "      <th>stanza_line</th>\n",
       "      <th>song_line</th>\n",
       "      <th>lyric</th>\n",
       "    </tr>\n",
       "  </thead>\n",
       "  <tbody>\n",
       "    <tr>\n",
       "      <th>0</th>\n",
       "      <td>I Saw Her Standing There</td>\n",
       "      <td>stanza_1</td>\n",
       "      <td>stanza_line_1</td>\n",
       "      <td>song_line_1</td>\n",
       "      <td>1 2 3 4</td>\n",
       "    </tr>\n",
       "    <tr>\n",
       "      <th>1</th>\n",
       "      <td>I Saw Her Standing There</td>\n",
       "      <td>stanza_2</td>\n",
       "      <td>stanza_line_1</td>\n",
       "      <td>song_line_2</td>\n",
       "      <td>well  she was just 17</td>\n",
       "    </tr>\n",
       "    <tr>\n",
       "      <th>2</th>\n",
       "      <td>I Saw Her Standing There</td>\n",
       "      <td>stanza_2</td>\n",
       "      <td>stanza_line_2</td>\n",
       "      <td>song_line_3</td>\n",
       "      <td>you know what i mean</td>\n",
       "    </tr>\n",
       "    <tr>\n",
       "      <th>3</th>\n",
       "      <td>I Saw Her Standing There</td>\n",
       "      <td>stanza_2</td>\n",
       "      <td>stanza_line_3</td>\n",
       "      <td>song_line_4</td>\n",
       "      <td>and the way she looked was way beyond compare</td>\n",
       "    </tr>\n",
       "    <tr>\n",
       "      <th>4</th>\n",
       "      <td>I Saw Her Standing There</td>\n",
       "      <td>stanza_2</td>\n",
       "      <td>stanza_line_4</td>\n",
       "      <td>song_line_5</td>\n",
       "      <td>so how could i dance with another  ooh</td>\n",
       "    </tr>\n",
       "  </tbody>\n",
       "</table>\n",
       "</div>"
      ],
      "text/plain": [
       "                       song    stanza    stanza_line    song_line  \\\n",
       "0  I Saw Her Standing There  stanza_1  stanza_line_1  song_line_1   \n",
       "1  I Saw Her Standing There  stanza_2  stanza_line_1  song_line_2   \n",
       "2  I Saw Her Standing There  stanza_2  stanza_line_2  song_line_3   \n",
       "3  I Saw Her Standing There  stanza_2  stanza_line_3  song_line_4   \n",
       "4  I Saw Her Standing There  stanza_2  stanza_line_4  song_line_5   \n",
       "\n",
       "                                           lyric  \n",
       "0                                        1 2 3 4  \n",
       "1                          well  she was just 17  \n",
       "2                           you know what i mean  \n",
       "3  and the way she looked was way beyond compare  \n",
       "4         so how could i dance with another  ooh  "
      ]
     },
     "execution_count": 11,
     "metadata": {},
     "output_type": "execute_result"
    }
   ],
   "source": [
    "# Parsing beatles lyrics to put in Pandas DataFrame...\n",
    "\n",
    "beatles_lyrics_parsed = parse_stanzas_lines(beatles_lyrics)\n",
    "\n",
    "\n",
    "lyrics_df_cols = ['song','stanza','stanza_line','song_line','lyric']\n",
    "df_lyrics = pd.DataFrame(beatles_parsed,columns=lyrics_df_cols)\n",
    "\n",
    "\n",
    "df_lyrics.head()"
   ]
  },
  {
   "cell_type": "markdown",
   "metadata": {},
   "source": [
    "### Adding csv of songwriter information"
   ]
  },
  {
   "cell_type": "code",
   "execution_count": 13,
   "metadata": {
    "collapsed": false
   },
   "outputs": [
    {
     "data": {
      "text/html": [
       "<div>\n",
       "<table border=\"1\" class=\"dataframe\">\n",
       "  <thead>\n",
       "    <tr style=\"text-align: right;\">\n",
       "      <th></th>\n",
       "      <th>album</th>\n",
       "      <th>release_date</th>\n",
       "      <th>song</th>\n",
       "      <th>writer</th>\n",
       "      <th>lead_singer</th>\n",
       "    </tr>\n",
       "  </thead>\n",
       "  <tbody>\n",
       "    <tr>\n",
       "      <th>0</th>\n",
       "      <td>Please Please Please Me</td>\n",
       "      <td>March 22 1963</td>\n",
       "      <td>I Saw Her Standing There</td>\n",
       "      <td>McCartney</td>\n",
       "      <td>McCartney</td>\n",
       "    </tr>\n",
       "    <tr>\n",
       "      <th>1</th>\n",
       "      <td>Please Please Please Me</td>\n",
       "      <td>March 22 1963</td>\n",
       "      <td>Misery</td>\n",
       "      <td>Lennon/McCartney</td>\n",
       "      <td>Lennon/McCartney</td>\n",
       "    </tr>\n",
       "    <tr>\n",
       "      <th>2</th>\n",
       "      <td>Please Please Please Me</td>\n",
       "      <td>March 22 1963</td>\n",
       "      <td>Anna (Go to Him)</td>\n",
       "      <td>Alexander</td>\n",
       "      <td>Lennon</td>\n",
       "    </tr>\n",
       "    <tr>\n",
       "      <th>3</th>\n",
       "      <td>Please Please Please Me</td>\n",
       "      <td>March 22 1963</td>\n",
       "      <td>Chains</td>\n",
       "      <td>Goffin/King</td>\n",
       "      <td>Harrison</td>\n",
       "    </tr>\n",
       "    <tr>\n",
       "      <th>4</th>\n",
       "      <td>Please Please Please Me</td>\n",
       "      <td>March 22 1963</td>\n",
       "      <td>Boys</td>\n",
       "      <td>Dixon/Farrell</td>\n",
       "      <td>Starr</td>\n",
       "    </tr>\n",
       "  </tbody>\n",
       "</table>\n",
       "</div>"
      ],
      "text/plain": [
       "                     album   release_date                      song  \\\n",
       "0  Please Please Please Me  March 22 1963  I Saw Her Standing There   \n",
       "1  Please Please Please Me  March 22 1963                    Misery   \n",
       "2  Please Please Please Me  March 22 1963          Anna (Go to Him)   \n",
       "3  Please Please Please Me  March 22 1963                    Chains   \n",
       "4  Please Please Please Me  March 22 1963                      Boys   \n",
       "\n",
       "             writer       lead_singer  \n",
       "0         McCartney         McCartney  \n",
       "1  Lennon/McCartney  Lennon/McCartney  \n",
       "2         Alexander            Lennon  \n",
       "3       Goffin/King          Harrison  \n",
       "4     Dixon/Farrell             Starr  "
      ]
     },
     "execution_count": 13,
     "metadata": {},
     "output_type": "execute_result"
    }
   ],
   "source": [
    "df_writers = pd.read_csv('beatles_songwriters.csv',encoding = 'iso-8859-1')\n",
    "\n",
    "df_writers.head()"
   ]
  },
  {
   "cell_type": "code",
   "execution_count": 15,
   "metadata": {
    "collapsed": false
   },
   "outputs": [
    {
     "data": {
      "text/html": [
       "<div>\n",
       "<table border=\"1\" class=\"dataframe\">\n",
       "  <thead>\n",
       "    <tr style=\"text-align: right;\">\n",
       "      <th></th>\n",
       "      <th>album</th>\n",
       "      <th>release_date</th>\n",
       "      <th>song</th>\n",
       "      <th>writer</th>\n",
       "      <th>lead_singer</th>\n",
       "      <th>stanza</th>\n",
       "      <th>stanza_line</th>\n",
       "      <th>song_line</th>\n",
       "      <th>lyric</th>\n",
       "    </tr>\n",
       "  </thead>\n",
       "  <tbody>\n",
       "    <tr>\n",
       "      <th>0</th>\n",
       "      <td>Please Please Please Me</td>\n",
       "      <td>March 22 1963</td>\n",
       "      <td>I Saw Her Standing There</td>\n",
       "      <td>McCartney</td>\n",
       "      <td>McCartney</td>\n",
       "      <td>stanza_1</td>\n",
       "      <td>stanza_line_1</td>\n",
       "      <td>song_line_1</td>\n",
       "      <td>1 2 3 4</td>\n",
       "    </tr>\n",
       "    <tr>\n",
       "      <th>1</th>\n",
       "      <td>Please Please Please Me</td>\n",
       "      <td>March 22 1963</td>\n",
       "      <td>I Saw Her Standing There</td>\n",
       "      <td>McCartney</td>\n",
       "      <td>McCartney</td>\n",
       "      <td>stanza_2</td>\n",
       "      <td>stanza_line_1</td>\n",
       "      <td>song_line_2</td>\n",
       "      <td>well  she was just 17</td>\n",
       "    </tr>\n",
       "    <tr>\n",
       "      <th>2</th>\n",
       "      <td>Please Please Please Me</td>\n",
       "      <td>March 22 1963</td>\n",
       "      <td>I Saw Her Standing There</td>\n",
       "      <td>McCartney</td>\n",
       "      <td>McCartney</td>\n",
       "      <td>stanza_2</td>\n",
       "      <td>stanza_line_2</td>\n",
       "      <td>song_line_3</td>\n",
       "      <td>you know what i mean</td>\n",
       "    </tr>\n",
       "    <tr>\n",
       "      <th>3</th>\n",
       "      <td>Please Please Please Me</td>\n",
       "      <td>March 22 1963</td>\n",
       "      <td>I Saw Her Standing There</td>\n",
       "      <td>McCartney</td>\n",
       "      <td>McCartney</td>\n",
       "      <td>stanza_2</td>\n",
       "      <td>stanza_line_3</td>\n",
       "      <td>song_line_4</td>\n",
       "      <td>and the way she looked was way beyond compare</td>\n",
       "    </tr>\n",
       "    <tr>\n",
       "      <th>4</th>\n",
       "      <td>Please Please Please Me</td>\n",
       "      <td>March 22 1963</td>\n",
       "      <td>I Saw Her Standing There</td>\n",
       "      <td>McCartney</td>\n",
       "      <td>McCartney</td>\n",
       "      <td>stanza_2</td>\n",
       "      <td>stanza_line_4</td>\n",
       "      <td>song_line_5</td>\n",
       "      <td>so how could i dance with another  ooh</td>\n",
       "    </tr>\n",
       "  </tbody>\n",
       "</table>\n",
       "</div>"
      ],
      "text/plain": [
       "                     album   release_date                      song  \\\n",
       "0  Please Please Please Me  March 22 1963  I Saw Her Standing There   \n",
       "1  Please Please Please Me  March 22 1963  I Saw Her Standing There   \n",
       "2  Please Please Please Me  March 22 1963  I Saw Her Standing There   \n",
       "3  Please Please Please Me  March 22 1963  I Saw Her Standing There   \n",
       "4  Please Please Please Me  March 22 1963  I Saw Her Standing There   \n",
       "\n",
       "      writer lead_singer    stanza    stanza_line    song_line  \\\n",
       "0  McCartney   McCartney  stanza_1  stanza_line_1  song_line_1   \n",
       "1  McCartney   McCartney  stanza_2  stanza_line_1  song_line_2   \n",
       "2  McCartney   McCartney  stanza_2  stanza_line_2  song_line_3   \n",
       "3  McCartney   McCartney  stanza_2  stanza_line_3  song_line_4   \n",
       "4  McCartney   McCartney  stanza_2  stanza_line_4  song_line_5   \n",
       "\n",
       "                                           lyric  \n",
       "0                                        1 2 3 4  \n",
       "1                          well  she was just 17  \n",
       "2                           you know what i mean  \n",
       "3  and the way she looked was way beyond compare  \n",
       "4         so how could i dance with another  ooh  "
      ]
     },
     "execution_count": 15,
     "metadata": {},
     "output_type": "execute_result"
    }
   ],
   "source": [
    "### Fuzzy Match both dataframes\n",
    "\n",
    "df_lyrics['song'] = df_lyrics['song'].apply(lambda x: difflib.get_close_matches(x, df_writers['song'])[0])\n",
    "df = df_writers.merge(df_lyrics)\n",
    "df = df.loc[df[\"lead_singer\"]!='Instrumental']\n",
    "\n",
    "\n",
    "df.head()"
   ]
  },
  {
   "cell_type": "code",
   "execution_count": 16,
   "metadata": {
    "collapsed": true
   },
   "outputs": [],
   "source": [
    "# Pickling\n",
    "\n",
    "with open('df_beatles.pkl', 'wb') as picklefile:\n",
    "    pickle.dump(df, picklefile)\n",
    "\n",
    "#with open(\"df_beatles.pkl\", 'rb') as picklefile: \n",
    "#    df = pickle.load(picklefile)"
   ]
  },
  {
   "cell_type": "code",
   "execution_count": null,
   "metadata": {
    "collapsed": true
   },
   "outputs": [],
   "source": []
  },
  {
   "cell_type": "code",
   "execution_count": null,
   "metadata": {
    "collapsed": true
   },
   "outputs": [],
   "source": []
  },
  {
   "cell_type": "code",
   "execution_count": null,
   "metadata": {
    "collapsed": true
   },
   "outputs": [],
   "source": []
  },
  {
   "cell_type": "code",
   "execution_count": null,
   "metadata": {
    "collapsed": true
   },
   "outputs": [],
   "source": []
  },
  {
   "cell_type": "code",
   "execution_count": null,
   "metadata": {
    "collapsed": true
   },
   "outputs": [],
   "source": []
  },
  {
   "cell_type": "code",
   "execution_count": 17,
   "metadata": {
    "collapsed": true
   },
   "outputs": [],
   "source": [
    "# Other functions not used (but that could be helpful)\n",
    "\n",
    "# Below (some of) them is a commented example of how they could be used\n",
    "\n",
    "\n",
    "\n",
    "\n",
    "def artist_albums(soup):\n",
    "    albums = []\n",
    "    works = soup.find(id='listAlbum').find_all(class_='album')\n",
    "    for work in works:\n",
    "        if work.text[:5]=='album':\n",
    "            albums.append(work.text[7:])\n",
    "    return albums\n",
    "\n",
    "#beatles_albums = artist_albums(beatles_soup)\n",
    "#beatles_albums = beatles_albums[:-1]\n",
    "#print(beatles_albums)\n",
    "\n",
    "\n",
    "\n",
    "def artist_songs(soup):\n",
    "    songs = []\n",
    "    hits = soup.find(id='listAlbum').find_all('a')\n",
    "    for hit in hits:\n",
    "        if hit.has_attr('href'):\n",
    "            songs.append(hit)\n",
    "    return songs\n",
    "\n",
    "#beatles_songs = artist_songs(beatles_soup)\n",
    "#print(beatles_songs)\n",
    "\n",
    "\n",
    "\n",
    "def parse_lines(artist_lyrics):\n",
    "    lines = []\n",
    "    for song in artist_lyrics:\n",
    "        line_num = 1\n",
    "        for line in song[2][2:]:\n",
    "            if line:\n",
    "                lines.append([song[0]+' - line {}'.format(line_num),\n",
    "                              re.sub(r'[^\\w ]', '', line.lower()).strip()])\n",
    "                line_num += 1\n",
    "    return lines\n",
    "\n",
    "#beatles_lyrics_parsed = parse_lines(beatles_lyrics)\n",
    "\n",
    "\n",
    "def parse_stanzas(artist_lyrics):\n",
    "    stanzas = []\n",
    "    for song in artist_lyrics:\n",
    "        stz_num = 1\n",
    "        stz = ''\n",
    "        for line in song[2][2:]:\n",
    "            if not line:\n",
    "                stanzas.append([song[0],\n",
    "                                'stanza_{}'.format(stz_num),\n",
    "                                re.sub(r'[^\\w ]', ' ', stz.lower()).strip()])\n",
    "                stz = ''\n",
    "                stz_num += 1\n",
    "            else:\n",
    "                stz+=line+' '\n",
    "    return stanzas\n",
    "\n",
    "#beatles_lyrics_parsed = parse_stanzas(beatles_lyrics)\n"
   ]
  }
 ],
 "metadata": {
  "anaconda-cloud": {},
  "kernelspec": {
   "display_name": "Python [conda root]",
   "language": "python",
   "name": "conda-root-py"
  },
  "language_info": {
   "codemirror_mode": {
    "name": "ipython",
    "version": 3
   },
   "file_extension": ".py",
   "mimetype": "text/x-python",
   "name": "python",
   "nbconvert_exporter": "python",
   "pygments_lexer": "ipython3",
   "version": "3.5.2"
  }
 },
 "nbformat": 4,
 "nbformat_minor": 1
}
